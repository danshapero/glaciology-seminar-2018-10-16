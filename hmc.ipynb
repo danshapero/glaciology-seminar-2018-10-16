{
 "cells": [
  {
   "cell_type": "code",
   "execution_count": null,
   "metadata": {},
   "outputs": [],
   "source": [
    "import numpy as np\n",
    "import numpy.random as random\n",
    "import scipy.sparse, scipy.sparse.linalg\n",
    "import matplotlib.pyplot as plt"
   ]
  },
  {
   "cell_type": "markdown",
   "metadata": {},
   "source": [
    "## Prologue: Hamiltonian systems\n",
    "\n",
    "Hamiltonian mechanics is a particular way of describing classical physical systems.\n",
    "\n",
    "* **The players**: position $q$, momentum $p$, and the total energy $H(q, p)$ of the system\n",
    "* **The rules**: Hamilton's equations of motion,\n",
    "$$\\begin{align}\n",
    "\\dot q & = +\\frac{\\partial H}{\\partial p} \\\\\n",
    "\\dot p & = -\\frac{\\partial H}{\\partial q}\n",
    "\\end{align}$$\n",
    "* When $p = m\\dot q$, and $H = $ kinetic energy + potential energy, Hamilton's equations of motion are equivalent to Newton's.\n",
    "\n",
    "Some very important things:\n",
    "* The energy $H$ is conserved along trajectories of the ODE.\n",
    "* The volume in phase space is conserved.\n",
    "Take a \"blob\" $D$ of position/momentum pairs, now evolve them all for a time $t$ using Hamilton's equations; this gives a morphed blob, $D_t$.\n",
    "Then $\\mathrm{vol}(D) = \\mathrm{vol}(D_t)$."
   ]
  },
  {
   "cell_type": "markdown",
   "metadata": {},
   "source": [
    "#### Ex: coupled oscillators\n",
    "\n",
    "The Hamiltonian:\n",
    "\n",
    "$$H = \\frac{|p|^2}{2m} + \\frac{1}{2}q^*Lq$$\n",
    "\n",
    "where $L$ is the stiffness matrix."
   ]
  },
  {
   "cell_type": "markdown",
   "metadata": {},
   "source": [
    "#### Ex: gravity\n",
    "\n",
    "$$H = \\frac{|p|^2}{2\\mu} + \\frac{GMm}{|q|}$$"
   ]
  },
  {
   "cell_type": "markdown",
   "metadata": {},
   "source": [
    "#### The Verlet algorithm\n",
    "\n",
    "There are many ways to integrate first-order systems of ODE.\n",
    "Suppose that the Hamiltonian is separable into a kinetic energy $K$ and a potential energy $U$:\n",
    "\n",
    "$$H = K(p) + U(q)$$\n",
    "\n",
    "The *Verlet algorithm* updates the positions first, then uses the new position value to update the momentum:\n",
    "\n",
    "$$\\begin{align}\n",
    "q_{n + \\frac{1}{2}} & = q_n + \\frac{\\delta t}{2} \\cdot \\frac{\\partial K}{\\partial p}(p_n) \\\\\n",
    "p_{n + 1} & = p_n - \\delta t \\cdot \\frac{\\partial U}{\\partial q}(q_{n + \\frac{1}{2}}) \\\\\n",
    "q_{n + 1} & = q_{n + \\frac{1}{2}} + \\frac{\\delta t}{2}\\cdot\\frac{\\partial K}{\\partial p}(p_{n + 1})\n",
    "\\end{align}$$\n",
    "\n",
    "**Useful things:**\n",
    "* The phase volume is preserved, like for Hamiltonian systems.\n",
    "* The trajectory exactly preserves a perturbed Hamiltonian $H + \\delta H$, where $\\delta H \\sim \\delta t$."
   ]
  },
  {
   "cell_type": "code",
   "execution_count": null,
   "metadata": {},
   "outputs": [],
   "source": [
    "def kinetic_energy(p):\n",
    "    return 0.5 * np.sum(p**2)\n",
    "\n",
    "def velocity(p):\n",
    "    return p\n",
    "\n",
    "n = 128\n",
    "diag = np.ones(n)\n",
    "diag[0] = 0\n",
    "D = scipy.sparse.diags([diag, -np.ones(n - 1)], [0, -1])\n",
    "Λ = scipy.sparse.diags([np.ones(n)], [0])\n",
    "L = D.T * Λ * D\n",
    "def potential_energy(q):\n",
    "    return 0.5 * np.dot(L * q, q)\n",
    "\n",
    "def potential_gradient(q):\n",
    "    return L * q"
   ]
  },
  {
   "cell_type": "code",
   "execution_count": null,
   "metadata": {},
   "outputs": [],
   "source": [
    "q0 = random.RandomState().normal(size=n)\n",
    "p0 = np.zeros(n)\n",
    "\n",
    "δt = 0.01\n",
    "num_steps = int(2 * np.pi / δt)"
   ]
  },
  {
   "cell_type": "code",
   "execution_count": null,
   "metadata": {},
   "outputs": [],
   "source": [
    "q = q0.copy()\n",
    "p = p0.copy()\n",
    "\n",
    "energy = np.zeros(num_steps)\n",
    "\n",
    "for k in range(num_steps):\n",
    "    q += δt / 2 * velocity(p)\n",
    "    p -= δt * potential_gradient(q)\n",
    "    q += δt / 2 * velocity(p)\n",
    "    \n",
    "    energy[k] = kinetic_energy(p) + potential_energy(q)"
   ]
  },
  {
   "cell_type": "code",
   "execution_count": null,
   "metadata": {},
   "outputs": [],
   "source": [
    "fig, ax = plt.subplots()\n",
    "ax.plot(energy)\n",
    "plt.show(fig)"
   ]
  },
  {
   "cell_type": "code",
   "execution_count": null,
   "metadata": {},
   "outputs": [],
   "source": [
    "q = q0.copy()\n",
    "p = p0.copy()\n",
    "\n",
    "energy = np.zeros(num_steps)\n",
    "for k in range(num_steps):\n",
    "    qk = q.copy()\n",
    "    q += δt * velocity(p)\n",
    "    p -= δt * potential_gradient(qk)\n",
    "    \n",
    "    energy[k] = kinetic_energy(p) + potential_energy(q)"
   ]
  },
  {
   "cell_type": "code",
   "execution_count": null,
   "metadata": {},
   "outputs": [],
   "source": [
    "fig, ax = plt.subplots()\n",
    "ax.plot(energy)\n",
    "plt.show(fig)"
   ]
  },
  {
   "cell_type": "code",
   "execution_count": null,
   "metadata": {},
   "outputs": [],
   "source": [
    "q = q0.copy()\n",
    "p = p0.copy()\n",
    "\n",
    "energy = np.zeros(num_steps)\n",
    "for k in range(num_steps):\n",
    "    pk = p.copy()\n",
    "    p = scipy.sparse.linalg.spsolve(scipy.sparse.eye(n) + δt**2 * L, pk - δt * L * q)\n",
    "    q += δt * p\n",
    "    \n",
    "    energy[k] = kinetic_energy(p) + potential_energy(q)"
   ]
  },
  {
   "cell_type": "code",
   "execution_count": null,
   "metadata": {},
   "outputs": [],
   "source": [
    "fig, ax = plt.subplots()\n",
    "ax.plot(energy)\n",
    "plt.show(fig)"
   ]
  },
  {
   "cell_type": "markdown",
   "metadata": {},
   "source": [
    "## Hamiltonian Monte Carlo\n",
    "\n",
    "MCMC simulation works with any reversible transition kernel.\n",
    "The idea of HMC is to augment the state $q$ with a *pseudo-momentum* variable $p$ and use Hamiltonian dynamics to update both $q$ and $p$."
   ]
  }
 ],
 "metadata": {
  "kernelspec": {
   "display_name": "Python 3",
   "language": "python",
   "name": "python3"
  },
  "language_info": {
   "codemirror_mode": {
    "name": "ipython",
    "version": 3
   },
   "file_extension": ".py",
   "mimetype": "text/x-python",
   "name": "python",
   "nbconvert_exporter": "python",
   "pygments_lexer": "ipython3",
   "version": "3.7.0"
  }
 },
 "nbformat": 4,
 "nbformat_minor": 2
}
