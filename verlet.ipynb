{
 "cells": [
  {
   "cell_type": "code",
   "execution_count": null,
   "metadata": {},
   "outputs": [],
   "source": [
    "%load_ext autoreload\n",
    "%autoreload 2\n",
    "%matplotlib inline\n",
    "import numpy as np\n",
    "import numpy.random as random\n",
    "import scipy.sparse, scipy.sparse.linalg\n",
    "import matplotlib.pyplot as plt"
   ]
  },
  {
   "cell_type": "markdown",
   "metadata": {},
   "source": [
    "## The Verlet algorithm\n",
    "\n",
    "Suppose that the Hamiltonian is separable into a kinetic energy $K$ and a potential energy $U$:\n",
    "\n",
    "$$H = K(p) + U(q)$$\n",
    "\n",
    "The Verlet algorithm:\n",
    "\n",
    "$$\\begin{align}\n",
    "q_{n + \\frac{1}{2}} & = q_n + \\frac{\\delta t}{2} \\cdot \\frac{\\partial K}{\\partial p}(p_n) \\\\\n",
    "p_{n + 1} & = p_n - \\delta t \\cdot \\frac{\\partial U}{\\partial q}(q_{n + \\frac{1}{2}}) \\\\\n",
    "q_{n + 1} & = q_{n + \\frac{1}{2}} + \\frac{\\delta t}{2}\\cdot\\frac{\\partial K}{\\partial p}(p_{n + 1})\n",
    "\\end{align}$$\n",
    "\n",
    "**Useful things:**\n",
    "* The phase volume is preserved, like for Hamiltonian systems.\n",
    "* The trajectory exactly preserves a perturbed Hamiltonian $H + \\delta H$, where $\\delta H \\sim \\delta t$.\n",
    "\n",
    "## Ex: coupled oscillators\n",
    "\n",
    "The Hamiltonian:\n",
    "\n",
    "$$H = \\frac{|p|^2}{2m} + \\frac{1}{2}q^*Lq$$\n",
    "\n",
    "where $L$ is the stiffness matrix."
   ]
  },
  {
   "cell_type": "code",
   "execution_count": null,
   "metadata": {},
   "outputs": [],
   "source": [
    "def kinetic_energy(p):\n",
    "    return 0.5 * np.sum(p**2)\n",
    "\n",
    "def velocity(p):\n",
    "    return p\n",
    "\n",
    "n = 128\n",
    "diag = np.ones(n)\n",
    "diag[0] = 0\n",
    "D = scipy.sparse.diags([diag, -np.ones(n - 1)], [0, -1])\n",
    "Λ = scipy.sparse.diags([np.ones(n)], [0])\n",
    "L = D.T * Λ * D\n",
    "def potential_energy(q):\n",
    "    return 0.5 * np.dot(L * q, q)\n",
    "\n",
    "def potential_gradient(q):\n",
    "    return L * q"
   ]
  },
  {
   "cell_type": "markdown",
   "metadata": {},
   "source": [
    "We'll make the initial state spatial white noise."
   ]
  },
  {
   "cell_type": "code",
   "execution_count": null,
   "metadata": {},
   "outputs": [],
   "source": [
    "q0 = random.RandomState().normal(size=n)\n",
    "p0 = np.zeros(n)\n",
    "\n",
    "δt = 0.01\n",
    "num_steps = int(2 * np.pi / δt)"
   ]
  },
  {
   "cell_type": "markdown",
   "metadata": {},
   "source": [
    "Next, integrate Hamilton's equations of motion using the Verlet, forward Euler, and backward Euler methods."
   ]
  },
  {
   "cell_type": "code",
   "execution_count": null,
   "metadata": {},
   "outputs": [],
   "source": [
    "q_verlet, q_feuler, q_beuler = q0.copy(), q0.copy(), q0.copy()\n",
    "p_verlet, p_feuler, p_beuler = p0.copy(), p0.copy(), p0.copy()\n",
    "\n",
    "energy_verlet, energy_feuler, energy_beuler = np.zeros(num_steps), np.zeros(num_steps), np.zeros(num_steps)\n",
    "\n",
    "for k in range(num_steps):\n",
    "    q_verlet += δt / 2 * velocity(p_verlet)\n",
    "    p_verlet -= δt * potential_gradient(q_verlet)\n",
    "    q_verlet += δt / 2 * velocity(p_verlet)\n",
    "    energy_verlet[k] = kinetic_energy(p_verlet) + potential_energy(q_verlet)\n",
    "    \n",
    "    qk = q_feuler.copy()\n",
    "    q_feuler += δt * velocity(p_feuler)\n",
    "    p_feuler -= δt * potential_gradient(qk)\n",
    "    energy_feuler[k] = kinetic_energy(p_feuler) + potential_energy(q_feuler)\n",
    "    \n",
    "    pk = p_beuler.copy()\n",
    "    p_beuler = scipy.sparse.linalg.spsolve(scipy.sparse.eye(n) + δt**2 * L, pk - δt * L * q_beuler)\n",
    "    q_beuler += δt * p_beuler\n",
    "    energy_beuler[k] = kinetic_energy(p_beuler) + potential_energy(q_beuler)"
   ]
  },
  {
   "cell_type": "markdown",
   "metadata": {},
   "source": [
    "The total energy of the system is conserved for an exact integration; how well do the numerical methods conserve energy?"
   ]
  },
  {
   "cell_type": "code",
   "execution_count": null,
   "metadata": {},
   "outputs": [],
   "source": [
    "fig, ax = plt.subplots()\n",
    "ax.plot(energy_feuler, 'g', label='forward Euler')\n",
    "ax.plot(energy_beuler, 'b', label='backward Euler')\n",
    "ax.plot(energy_verlet, 'r', label='Verlet')\n",
    "fig.legend()\n",
    "ax.set_xlabel('timestep')\n",
    "ax.set_ylabel('energy')\n",
    "plt.show(fig)"
   ]
  },
  {
   "cell_type": "markdown",
   "metadata": {},
   "source": [
    "The energy increases and decreases with the forward and backward Euler methods, respectively.\n",
    "As we take smaller timesteps, this error decreases for a given model time, but the long-time behavior of the discrete system is always wrong in one way or the other.\n",
    "\n",
    "By contrast, the energy is approximately conserved when using the Verlet method, even for arbitrarily long integration times."
   ]
  },
  {
   "cell_type": "code",
   "execution_count": null,
   "metadata": {},
   "outputs": [],
   "source": [
    "print((np.max(energy_verlet) - np.min(energy_verlet)) / np.mean(energy_verlet))"
   ]
  }
 ],
 "metadata": {
  "kernelspec": {
   "display_name": "Python 3",
   "language": "python",
   "name": "python3"
  },
  "language_info": {
   "codemirror_mode": {
    "name": "ipython",
    "version": 3
   },
   "file_extension": ".py",
   "mimetype": "text/x-python",
   "name": "python",
   "nbconvert_exporter": "python",
   "pygments_lexer": "ipython3",
   "version": "3.7.0"
  }
 },
 "nbformat": 4,
 "nbformat_minor": 2
}
